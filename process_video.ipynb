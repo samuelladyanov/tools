{
 "cells": [
  {
   "cell_type": "code",
   "execution_count": 39,
   "metadata": {},
   "outputs": [],
   "source": [
    "import whisper\n",
    "import moviepy.editor as mp\n",
    "import pandas as pd\n",
    "import os\n",
    "from googletrans import Translator"
   ]
  },
  {
   "cell_type": "code",
   "execution_count": 40,
   "metadata": {},
   "outputs": [],
   "source": [
    "video_folder = 'videos'\n",
    "files = sorted(os.listdir(video_folder))"
   ]
  },
  {
   "cell_type": "code",
   "execution_count": 41,
   "metadata": {},
   "outputs": [],
   "source": [
    "if not os.path.exists('video_processed.csv'):\n",
    "    df = pd.DataFrame(columns={'Content ID': [], 'English Transcription': [], 'Original Language Transcription': []})\n",
    "    df.to_csv('video_processed.csv')\n",
    "df = pd.read_csv('video_processed.csv')"
   ]
  },
  {
   "cell_type": "code",
   "execution_count": 42,
   "metadata": {},
   "outputs": [],
   "source": [
    "translator = Translator()\n",
    "model = whisper.load_model('medium')"
   ]
  },
  {
   "cell_type": "code",
   "execution_count": 43,
   "metadata": {},
   "outputs": [],
   "source": [
    "def format_data(english_result, original_result, video_id):\n",
    "    '''\n",
    "    THIS WILL CHANGE TO FORMAT INTO CSV FORMAT\n",
    "    '''\n",
    "    output = {}\n",
    "\n",
    "    # build dictionary\n",
    "    output['Content ID'] = video_id\n",
    "    output['English Transcription'] = english_result\n",
    "    output['Original Language Transcription'] = original_result\n",
    "    return output"
   ]
  },
  {
   "cell_type": "code",
   "execution_count": 44,
   "metadata": {},
   "outputs": [],
   "source": [
    "\n",
    "def process_videos(file):\n",
    "    csv_list = []\n",
    "    file_path = f\"{video_folder}/{file}\"\n",
    "    video_file = file_path\n",
    "    audio_file = os.path.basename(file_path)\n",
    "    audio_file = f\"{os.path.splitext(audio_file)[0]}.wav\"\n",
    "    \n",
    "    # load video\n",
    "    \n",
    "    clip = mp.VideoFileClip(video_file)\n",
    "    if clip.audio is not None:\n",
    "        clip.audio.write_audiofile(audio_file, logger=None)\n",
    "\n",
    "    # detect language\n",
    "    audio = whisper.load_audio(audio_file)\n",
    "    audio = whisper.pad_or_trim(audio)\n",
    "    mel = whisper.log_mel_spectrogram(audio).to(model.device)\n",
    "    _, probs = model.detect_language(mel)\n",
    "    language = max(probs, key=probs.get)\n",
    "    print(language)\n",
    "    \n",
    "    # if language confidence is low, skip transcription\n",
    "    if probs.get(language) < 0.1:\n",
    "        print(\"language confidence too low, quitting...\")\n",
    "        original_result = None\n",
    "        english_result = None\n",
    "\n",
    "    # if language not english, translate to english\n",
    "    if language != 'en':\n",
    "        print('language not english, transcribing original language...')\n",
    "        original_result = model.transcribe(audio_file, verbose=True)\n",
    "        print('translating to english...')\n",
    "        english_result = \"\"\n",
    "        for segment in original_result['segments']:\n",
    "            english = translator.translate(segment['text'])\n",
    "            english = english.text\n",
    "            english_result += english\n",
    "\n",
    "        original_result = original_result['text']\n",
    "    else:\n",
    "        print('language is english, transcribing...')\n",
    "        #english_result = model.transcribe(audio_file, beam_size=5, best_of=5, verbose=True)\n",
    "        english_result = model.transcribe(audio_file, verbose=True)\n",
    "        english_result = english_result['text']\n",
    "        original_result = None\n",
    "\n",
    "    # format data for web\n",
    "    output_data = format_data(english_result, original_result, os.path.splitext(file)[0])\n",
    "    \n",
    "    # remove audio file\n",
    "    os.remove(audio_file)\n",
    "    print(file_path, 'completed')\n",
    "\n",
    "    csv_list.append(output_data)\n",
    "    \n",
    "    return csv_list"
   ]
  },
  {
   "cell_type": "code",
   "execution_count": null,
   "metadata": {},
   "outputs": [],
   "source": [
    "# stop this cell to quit processing\n",
    "for file in files:\n",
    "    if os.path.splitext(file)[0] in list(df['Content ID']):\n",
    "        continue\n",
    "    pd.DataFrame(process_videos(file)).to_csv('video_processed.csv', mode='a', header=False)"
   ]
  }
 ],
 "metadata": {
  "kernelspec": {
   "display_name": "speech",
   "language": "python",
   "name": "python3"
  },
  "language_info": {
   "codemirror_mode": {
    "name": "ipython",
    "version": 3
   },
   "file_extension": ".py",
   "mimetype": "text/x-python",
   "name": "python",
   "nbconvert_exporter": "python",
   "pygments_lexer": "ipython3",
   "version": "3.9.16"
  },
  "orig_nbformat": 4
 },
 "nbformat": 4,
 "nbformat_minor": 2
}
